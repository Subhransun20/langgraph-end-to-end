{
 "cells": [
  {
   "cell_type": "code",
   "execution_count": 16,
   "id": "9aa63455",
   "metadata": {},
   "outputs": [
    {
     "name": "stdout",
     "output_type": "stream",
     "text": [
      "all ok\n"
     ]
    }
   ],
   "source": [
    "print(\"all ok\")"
   ]
  },
  {
   "cell_type": "code",
   "execution_count": 17,
   "id": "d47549b1",
   "metadata": {},
   "outputs": [],
   "source": [
    "from dotenv import load_dotenv\n",
    "load_dotenv()\n",
    "import os\n",
    "os.environ['GROQ_API_KEY'] = os.getenv(\"GROQ_API_KEY\")"
   ]
  },
  {
   "cell_type": "code",
   "execution_count": 18,
   "id": "5f74b464",
   "metadata": {},
   "outputs": [],
   "source": [
    "from langchain_groq import ChatGroq\n",
    "llm = ChatGroq(\n",
    "    model_name=\"deepseek-r1-distill-llama-70b\",\n",
    "    temperature=0\n",
    ")\n",
    "response=llm.invoke(\"what is length of wall of china?\")"
   ]
  },
  {
   "cell_type": "code",
   "execution_count": 19,
   "id": "74c644e5",
   "metadata": {},
   "outputs": [
    {
     "data": {
      "text/plain": [
       "AIMessage(content=\"<think>\\nOkay, so I need to figure out the length of the Great Wall of China. I remember hearing that it's really long, but I'm not exactly sure how long. I think it's somewhere in the thousands of miles, but I'm not certain. Let me try to break this down.\\n\\nFirst, I know the Great Wall is a series of fortifications built across several Chinese dynasties. It wasn't built all at once, so maybe that's why the length can vary. I've heard different numbers before, like 13,000 miles or 21,000 kilometers. But I'm not sure which one is accurate.\\n\\nI should consider the sources of this information. Maybe some people measure it differently. For example, if you include all the branches and sections, it might add up to a longer distance. But if you just take the main wall, it might be shorter. I think the Chinese government did a survey a while back, so that might be a reliable source.\\n\\nWait, I think they used advanced technology like GPS and satellites to measure it more accurately. That would make sense because older measurements might have been estimates. So, if the official measurement is around 13,171 miles, that's probably the most accurate number now.\\n\\nBut I also remember hearing that some sections are overlapping or that the wall isn't one continuous structure. It has different parts built in different times, so maybe that's why the total length adds up to more than just a straight line. Each section was built for specific purposes, like protecting certain areas or controlling trade routes.\\n\\nI should also think about the units. The user asked for the length, and I can provide it in both miles and kilometers since the question didn't specify. That way, it's more helpful for everyone. So, 13,171 miles is about 21,196 kilometers. That seems right because 1 mile is approximately 1.609 kilometers, so multiplying 13,171 by 1.609 should give around 21,196.\\n\\nI wonder if there are any other factors that could affect the measurement. Maybe some parts are missing or have been destroyed over time, so the current length might be less than the original. But the survey probably accounts for all existing sections, whether they're in good condition or not.\\n\\nAlso, the Great Wall isn't just one wall; it's a collection of walls built over centuries. So, adding up all those segments would give the total length. It's impressive that it's so long, considering the time and resources it took to build without modern machinery.\\n\\nIn summary, the most accurate measurement I can find is approximately 13,171 miles or 21,196 kilometers. This comes from a comprehensive survey that accounted for all the sections, including the branches and overlapping parts. So, that's the length of the Great Wall of China.\\n</think>\\n\\nThe Great Wall of China is approximately 13,171 miles (21,196 kilometers) long. This measurement was determined by a comprehensive survey that included all sections, branches, and overlapping parts, providing an accurate total length of this historic structure.\", additional_kwargs={}, response_metadata={'token_usage': {'completion_tokens': 631, 'prompt_tokens': 11, 'total_tokens': 642, 'completion_time': 2.863878653, 'prompt_time': 0.000283095, 'queue_time': 0.203442026, 'total_time': 2.864161748}, 'model_name': 'deepseek-r1-distill-llama-70b', 'system_fingerprint': 'fp_1bbe7845ec', 'finish_reason': 'stop', 'logprobs': None}, id='run--1e17e2ab-13bc-4052-90db-4656cb3e23ba-0', usage_metadata={'input_tokens': 11, 'output_tokens': 631, 'total_tokens': 642})"
      ]
     },
     "execution_count": 19,
     "metadata": {},
     "output_type": "execute_result"
    }
   ],
   "source": [
    "response"
   ]
  },
  {
   "cell_type": "code",
   "execution_count": 20,
   "id": "ccf93991",
   "metadata": {},
   "outputs": [
    {
     "data": {
      "text/plain": [
       "\"<think>\\nOkay, so I need to figure out the length of the Great Wall of China. I remember hearing that it's really long, but I'm not exactly sure how long. I think it's somewhere in the thousands of miles, but I'm not certain. Let me try to break this down.\\n\\nFirst, I know the Great Wall is a series of fortifications built across several Chinese dynasties. It wasn't built all at once, so maybe that's why the length can vary. I've heard different numbers before, like 13,000 miles or 21,000 kilometers. But I'm not sure which one is accurate.\\n\\nI should consider the sources of this information. Maybe some people measure it differently. For example, if you include all the branches and sections, it might add up to a longer distance. But if you just take the main wall, it might be shorter. I think the Chinese government did a survey a while back, so that might be a reliable source.\\n\\nWait, I think they used advanced technology like GPS and satellites to measure it more accurately. That would make sense because older measurements might have been estimates. So, if the official measurement is around 13,171 miles, that's probably the most accurate number now.\\n\\nBut I also remember hearing that some sections are overlapping or that the wall isn't one continuous structure. It has different parts built in different times, so maybe that's why the total length adds up to more than just a straight line. Each section was built for specific purposes, like protecting certain areas or controlling trade routes.\\n\\nI should also think about the units. The user asked for the length, and I can provide it in both miles and kilometers since the question didn't specify. That way, it's more helpful for everyone. So, 13,171 miles is about 21,196 kilometers. That seems right because 1 mile is approximately 1.609 kilometers, so multiplying 13,171 by 1.609 should give around 21,196.\\n\\nI wonder if there are any other factors that could affect the measurement. Maybe some parts are missing or have been destroyed over time, so the current length might be less than the original. But the survey probably accounts for all existing sections, whether they're in good condition or not.\\n\\nAlso, the Great Wall isn't just one wall; it's a collection of walls built over centuries. So, adding up all those segments would give the total length. It's impressive that it's so long, considering the time and resources it took to build without modern machinery.\\n\\nIn summary, the most accurate measurement I can find is approximately 13,171 miles or 21,196 kilometers. This comes from a comprehensive survey that accounted for all the sections, including the branches and overlapping parts. So, that's the length of the Great Wall of China.\\n</think>\\n\\nThe Great Wall of China is approximately 13,171 miles (21,196 kilometers) long. This measurement was determined by a comprehensive survey that included all sections, branches, and overlapping parts, providing an accurate total length of this historic structure.\""
      ]
     },
     "execution_count": 20,
     "metadata": {},
     "output_type": "execute_result"
    }
   ],
   "source": [
    "response.content"
   ]
  },
  {
   "cell_type": "code",
   "execution_count": 21,
   "id": "eed89467",
   "metadata": {},
   "outputs": [],
   "source": [
    "from langchain.tools import tool"
   ]
  },
  {
   "cell_type": "markdown",
   "id": "1a8ba3c1",
   "metadata": {},
   "source": [
    "## this is my custom tools"
   ]
  },
  {
   "cell_type": "code",
   "execution_count": 22,
   "id": "3f711f96",
   "metadata": {},
   "outputs": [],
   "source": [
    "from langchain.tools import tool\n",
    "\n",
    "@tool\n",
    "def multiply(a: int, b: int) -> int:\n",
    "    \"\"\"\n",
    "    Multiply two integers.\n",
    "\n",
    "    Args:\n",
    "        a (int): The first integer.\n",
    "        b (int): The second integer.\n",
    "\n",
    "    Returns:\n",
    "        int: The product of a and b.\n",
    "    \"\"\"\n",
    "    return a * b\n",
    "\n",
    "@tool\n",
    "def add(a: int, b: int) -> int:\n",
    "    \"\"\"\n",
    "    Add two integers.\n",
    "\n",
    "    Args:\n",
    "        a (int): The first integer.\n",
    "        b (int): The second integer.\n",
    "\n",
    "    Returns:\n",
    "        int: The sum of a and b.\n",
    "    \"\"\"\n",
    "    return a + b\n",
    "\n",
    "@tool\n",
    "def divide(a: int, b: int) -> float:\n",
    "    \"\"\"\n",
    "    Divide two integers.\n",
    "\n",
    "    Args:\n",
    "        a (int): The numerator.\n",
    "        b (int): The denominator (must not be 0).\n",
    "\n",
    "    Returns:\n",
    "        float: The result of division.\n",
    "    \"\"\"\n",
    "    if b == 0:\n",
    "        raise ValueError(\"Denominator cannot be zero.\")\n",
    "    return a / b"
   ]
  },
  {
   "cell_type": "markdown",
   "id": "36fb6eeb",
   "metadata": {},
   "source": [
    "## importing the inbuilt tool"
   ]
  },
  {
   "cell_type": "code",
   "execution_count": 23,
   "id": "09a85571",
   "metadata": {},
   "outputs": [],
   "source": [
    "from langchain_community.tools import DuckDuckGoSearchRun\n",
    "search=DuckDuckGoSearchRun()"
   ]
  },
  {
   "cell_type": "code",
   "execution_count": 24,
   "id": "70136b5d",
   "metadata": {},
   "outputs": [
    {
     "data": {
      "text/plain": [
       "\"Some iPhone 17 models (maybe even all of them) will have a new camera bump, a wide rectangular raised area that stretches across the phone similar in style to Google's Pixel line. According to a ... Planned for September 2025, the iPhone 17 models could feature larger display sizes, ProMotion across the lineup, Wi-Fi 7, and more. We're still in the middle of the iPhone 16 release cycle, but ... • The iPhone 17's display may not match what the Pro model offers. • iOS 26, Apple's iPhone software update for later this year, got a preview at WWDC. • The iPhone 17 could support a new ... The iPhone 17 lineup brings significant technological improvements across design, performance, and functionality. Apple's latest innovations focus on enhanced displays, powerful processing capabilities, and advanced camera systems.. Innovative Design and Display. The iPhone 17 Pro Max features a larger 6.86-inch display, marking a notable size increase. The iPhone 17 is already shaping up to be one of its biggest updates in years. From the ultra-slim iPhone 17 Air to a new matte finish, upgraded front cameras, a possible sky blue model and more ...\""
      ]
     },
     "execution_count": 24,
     "metadata": {},
     "output_type": "execute_result"
    }
   ],
   "source": [
    "search.invoke(\"what is the latest update on iphone17 release?\")"
   ]
  },
  {
   "cell_type": "code",
   "execution_count": 25,
   "id": "62382fc9",
   "metadata": {},
   "outputs": [],
   "source": [
    "tools=[multiply, add, divide, search]"
   ]
  },
  {
   "cell_type": "code",
   "execution_count": 26,
   "id": "b9706a3a",
   "metadata": {},
   "outputs": [],
   "source": [
    "llm_with_tools=llm.bind_tools(tools)"
   ]
  },
  {
   "cell_type": "code",
   "execution_count": 27,
   "id": "35a64d0a",
   "metadata": {},
   "outputs": [],
   "source": [
    "response=llm_with_tools.invoke(\"hi\")"
   ]
  },
  {
   "cell_type": "code",
   "execution_count": 28,
   "id": "8339ed3f",
   "metadata": {},
   "outputs": [
    {
     "data": {
      "text/plain": [
       "'Hello! How can I assist you today?'"
      ]
     },
     "execution_count": 28,
     "metadata": {},
     "output_type": "execute_result"
    }
   ],
   "source": [
    "response.content"
   ]
  },
  {
   "cell_type": "code",
   "execution_count": 29,
   "id": "1467a9c5",
   "metadata": {},
   "outputs": [
    {
     "data": {
      "text/plain": [
       "[]"
      ]
     },
     "execution_count": 29,
     "metadata": {},
     "output_type": "execute_result"
    }
   ],
   "source": [
    "response.tool_calls"
   ]
  },
  {
   "cell_type": "code",
   "execution_count": 30,
   "id": "da1e681d",
   "metadata": {},
   "outputs": [],
   "source": [
    "response=llm_with_tools.invoke(\"what is 2+2?\")"
   ]
  },
  {
   "cell_type": "code",
   "execution_count": 31,
   "id": "8814890e",
   "metadata": {},
   "outputs": [
    {
     "data": {
      "text/plain": [
       "''"
      ]
     },
     "execution_count": 31,
     "metadata": {},
     "output_type": "execute_result"
    }
   ],
   "source": [
    "response.content"
   ]
  },
  {
   "cell_type": "code",
   "execution_count": 32,
   "id": "a7e9f880",
   "metadata": {},
   "outputs": [
    {
     "data": {
      "text/plain": [
       "[{'name': 'add',\n",
       "  'args': {'a': 2, 'b': 2},\n",
       "  'id': 'k2cyy7b8j',\n",
       "  'type': 'tool_call'}]"
      ]
     },
     "execution_count": 32,
     "metadata": {},
     "output_type": "execute_result"
    }
   ],
   "source": [
    "response.tool_calls"
   ]
  },
  {
   "cell_type": "code",
   "execution_count": 33,
   "id": "bfb7906f",
   "metadata": {},
   "outputs": [],
   "source": [
    "response=llm_with_tools.invoke(\"what is 10/2?\")"
   ]
  },
  {
   "cell_type": "code",
   "execution_count": 34,
   "id": "8aa973fd",
   "metadata": {},
   "outputs": [
    {
     "data": {
      "text/plain": [
       "''"
      ]
     },
     "execution_count": 34,
     "metadata": {},
     "output_type": "execute_result"
    }
   ],
   "source": [
    "response.content"
   ]
  },
  {
   "cell_type": "code",
   "execution_count": 35,
   "id": "5d995a37",
   "metadata": {},
   "outputs": [
    {
     "data": {
      "text/plain": [
       "[{'name': 'divide',\n",
       "  'args': {'a': 10, 'b': 2},\n",
       "  'id': '22s90skzb',\n",
       "  'type': 'tool_call'}]"
      ]
     },
     "execution_count": 35,
     "metadata": {},
     "output_type": "execute_result"
    }
   ],
   "source": [
    "response.tool_calls"
   ]
  },
  {
   "cell_type": "code",
   "execution_count": 36,
   "id": "d78dc801",
   "metadata": {},
   "outputs": [],
   "source": [
    "response=llm_with_tools.invoke(\"what is a current age of the TATA Group?\")"
   ]
  },
  {
   "cell_type": "code",
   "execution_count": 37,
   "id": "a2afabf6",
   "metadata": {},
   "outputs": [
    {
     "data": {
      "text/plain": [
       "AIMessage(content='', additional_kwargs={'tool_calls': [{'id': '9zsbhag2p', 'function': {'arguments': '{\"query\":\"TATA Group founding year\"}', 'name': 'duckduckgo_search'}, 'type': 'function'}]}, response_metadata={'token_usage': {'completion_tokens': 417, 'prompt_tokens': 402, 'total_tokens': 819, 'completion_time': 1.615152613, 'prompt_time': 0.025883351, 'queue_time': 0.205407794, 'total_time': 1.6410359639999998}, 'model_name': 'deepseek-r1-distill-llama-70b', 'system_fingerprint': 'fp_1bbe7845ec', 'finish_reason': 'tool_calls', 'logprobs': None}, id='run--4019e57e-3c6b-466e-a9a8-e0ed9fc8d57b-0', tool_calls=[{'name': 'duckduckgo_search', 'args': {'query': 'TATA Group founding year'}, 'id': '9zsbhag2p', 'type': 'tool_call'}], usage_metadata={'input_tokens': 402, 'output_tokens': 417, 'total_tokens': 819})"
      ]
     },
     "execution_count": 37,
     "metadata": {},
     "output_type": "execute_result"
    }
   ],
   "source": [
    "response"
   ]
  },
  {
   "cell_type": "code",
   "execution_count": 38,
   "id": "9625b943",
   "metadata": {},
   "outputs": [
    {
     "data": {
      "text/plain": [
       "''"
      ]
     },
     "execution_count": 38,
     "metadata": {},
     "output_type": "execute_result"
    }
   ],
   "source": [
    "response.content"
   ]
  },
  {
   "cell_type": "code",
   "execution_count": 39,
   "id": "526c8c85",
   "metadata": {},
   "outputs": [
    {
     "data": {
      "text/plain": [
       "[{'name': 'duckduckgo_search',\n",
       "  'args': {'query': 'TATA Group founding year'},\n",
       "  'id': '9zsbhag2p',\n",
       "  'type': 'tool_call'}]"
      ]
     },
     "execution_count": 39,
     "metadata": {},
     "output_type": "execute_result"
    }
   ],
   "source": [
    "response.tool_calls"
   ]
  },
  {
   "cell_type": "code",
   "execution_count": null,
   "id": "15c2d865",
   "metadata": {},
   "outputs": [
    {
     "ename": "NameError",
     "evalue": "name 'TypedDict' is not defined",
     "output_type": "error",
     "traceback": [
      "\u001b[31m---------------------------------------------------------------------------\u001b[39m",
      "\u001b[31mNameError\u001b[39m                                 Traceback (most recent call last)",
      "\u001b[36mCell\u001b[39m\u001b[36m \u001b[39m\u001b[32mIn[46]\u001b[39m\u001b[32m, line 1\u001b[39m\n\u001b[32m----> \u001b[39m\u001b[32m1\u001b[39m \u001b[38;5;28;01mclass\u001b[39;00m\u001b[38;5;250m \u001b[39m\u001b[34;01mMessagesState\u001b[39;00m(\u001b[43mTypedDict\u001b[49m):\n\u001b[32m      2\u001b[39m     messages: Annotated[\u001b[38;5;28mlist\u001b[39m[AnyMessage], add_messages]\n",
      "\u001b[31mNameError\u001b[39m: name 'TypedDict' is not defined"
     ]
    }
   ],
   "source": [
    "#class MessagesState(TypedDict):\n",
    "    #messages: Annotated[list[AnyMessage], add_messages]"
   ]
  },
  {
   "cell_type": "code",
   "execution_count": 41,
   "id": "e377308c",
   "metadata": {},
   "outputs": [],
   "source": [
    "SYSTEM_PROMPT=\"You are a helpful assistant tasked with using search and performing arithmetic on a set of inputs.\"\n",
    "\n"
   ]
  },
  {
   "cell_type": "code",
   "execution_count": 42,
   "id": "e0d8125c",
   "metadata": {},
   "outputs": [],
   "source": [
    "user_query=[\"tell me what is 2+2\"]"
   ]
  },
  {
   "cell_type": "code",
   "execution_count": 43,
   "id": "2fe81ec0",
   "metadata": {},
   "outputs": [
    {
     "data": {
      "text/plain": [
       "['You are a helpful assistant tasked with using search and performing arithmetic on a set of inputs.',\n",
       " 'tell me what is 2+2']"
      ]
     },
     "execution_count": 43,
     "metadata": {},
     "output_type": "execute_result"
    }
   ],
   "source": [
    "[SYSTEM_PROMPT]+user_query"
   ]
  },
  {
   "cell_type": "code",
   "execution_count": 52,
   "id": "7e0ff320",
   "metadata": {},
   "outputs": [],
   "source": [
    "from langchain_core.messages import HumanMessage, SystemMessage\n",
    "from langgraph.graph import MessagesState,StateGraph, END, START"
   ]
  },
  {
   "cell_type": "code",
   "execution_count": 49,
   "id": "99215609",
   "metadata": {},
   "outputs": [],
   "source": [
    "def function_1(state:MessagesState):\n",
    "    \n",
    "    user_question = state[\"messages\"]\n",
    "    \n",
    "    input_question = [SYSTEM_PROMPT] + user_question\n",
    "    \n",
    "    response = llm_with_tools.invoke(input_question)\n",
    "    \n",
    "    return {\n",
    "        \"messages\": [response]\n",
    "    }\n",
    "    \n",
    "    "
   ]
  },
  {
   "cell_type": "code",
   "execution_count": 53,
   "id": "eed41e32",
   "metadata": {},
   "outputs": [],
   "source": [
    "builder=StateGraph(MessagesState)"
   ]
  },
  {
   "cell_type": "code",
   "execution_count": 54,
   "id": "23396a1e",
   "metadata": {},
   "outputs": [
    {
     "data": {
      "text/plain": [
       "<langgraph.graph.state.StateGraph at 0x23a96a7f380>"
      ]
     },
     "execution_count": 54,
     "metadata": {},
     "output_type": "execute_result"
    }
   ],
   "source": [
    "builder.add_node(\"llm_decision_step\",function_1)"
   ]
  },
  {
   "cell_type": "code",
   "execution_count": 55,
   "id": "7b70b839",
   "metadata": {},
   "outputs": [
    {
     "data": {
      "text/plain": [
       "[StructuredTool(name='multiply', description='Multiply two integers.\\n\\nArgs:\\n    a (int): The first integer.\\n    b (int): The second integer.\\n\\nReturns:\\n    int: The product of a and b.', args_schema=<class 'langchain_core.utils.pydantic.multiply'>, func=<function multiply at 0x0000023A89008D60>),\n",
       " StructuredTool(name='add', description='Add two integers.\\n\\nArgs:\\n    a (int): The first integer.\\n    b (int): The second integer.\\n\\nReturns:\\n    int: The sum of a and b.', args_schema=<class 'langchain_core.utils.pydantic.add'>, func=<function add at 0x0000023A89008E00>),\n",
       " StructuredTool(name='divide', description='Divide two integers.\\n\\nArgs:\\n    a (int): The numerator.\\n    b (int): The denominator (must not be 0).\\n\\nReturns:\\n    float: The result of division.', args_schema=<class 'langchain_core.utils.pydantic.divide'>, func=<function divide at 0x0000023A8900AD40>),\n",
       " DuckDuckGoSearchRun(api_wrapper=DuckDuckGoSearchAPIWrapper(region='wt-wt', safesearch='moderate', time='y', max_results=5, backend='auto', source='text'))]"
      ]
     },
     "execution_count": 55,
     "metadata": {},
     "output_type": "execute_result"
    }
   ],
   "source": [
    "tools"
   ]
  },
  {
   "cell_type": "code",
   "execution_count": 56,
   "id": "09ead360",
   "metadata": {},
   "outputs": [
    {
     "data": {
      "text/plain": [
       "<langgraph.graph.state.StateGraph at 0x23a96a7f380>"
      ]
     },
     "execution_count": 56,
     "metadata": {},
     "output_type": "execute_result"
    }
   ],
   "source": [
    "from langgraph.prebuilt import ToolNode\n",
    "builder.add_node(\"tools\",ToolNode(tools))"
   ]
  },
  {
   "cell_type": "code",
   "execution_count": 57,
   "id": "43d2cbe6",
   "metadata": {},
   "outputs": [
    {
     "data": {
      "text/plain": [
       "<langgraph.graph.state.StateGraph at 0x23a96a7f380>"
      ]
     },
     "execution_count": 57,
     "metadata": {},
     "output_type": "execute_result"
    }
   ],
   "source": [
    "builder.add_edge(START,\"llm_decision_step\")"
   ]
  },
  {
   "cell_type": "code",
   "execution_count": 58,
   "id": "596349b9",
   "metadata": {},
   "outputs": [
    {
     "data": {
      "text/plain": [
       "<langgraph.graph.state.StateGraph at 0x23a96a7f380>"
      ]
     },
     "execution_count": 58,
     "metadata": {},
     "output_type": "execute_result"
    }
   ],
   "source": [
    "from langgraph.prebuilt import tools_condition\n",
    "builder.add_conditional_edges(\n",
    "    \"llm_decision_step\",\n",
    "    tools_condition,\n",
    ")\n"
   ]
  },
  {
   "cell_type": "code",
   "execution_count": 59,
   "id": "ec9c48d5",
   "metadata": {},
   "outputs": [
    {
     "data": {
      "text/plain": [
       "<langgraph.graph.state.StateGraph at 0x23a96a7f380>"
      ]
     },
     "execution_count": 59,
     "metadata": {},
     "output_type": "execute_result"
    }
   ],
   "source": [
    "builder.add_edge(\"tools\",\"llm_decision_step\")"
   ]
  },
  {
   "cell_type": "code",
   "execution_count": 60,
   "id": "2782ff4e",
   "metadata": {},
   "outputs": [],
   "source": [
    "react_graph=builder.compile()"
   ]
  },
  {
   "cell_type": "code",
   "execution_count": 61,
   "id": "eb4b5b74",
   "metadata": {},
   "outputs": [
    {
     "data": {
      "image/png": "[encoded data removed]",
      "text/plain": [
       "<IPython.core.display.Image object>"
      ]
     },
     "metadata": {},
     "output_type": "display_data"
    }
   ],
   "source": [
    "from IPython.display import Image, display\n",
    "display(Image(react_graph.get_graph().draw_mermaid_png()))"
   ]
  },
  {
   "cell_type": "code",
   "execution_count": 62,
   "id": "0dba8bc7",
   "metadata": {},
   "outputs": [],
   "source": [
    "message=[HumanMessage(content=\"What is 2 times of narendramodi's age?\")]"
   ]
  },
  {
   "cell_type": "code",
   "execution_count": 63,
   "id": "d3269295",
   "metadata": {},
   "outputs": [
    {
     "data": {
      "text/plain": [
       "{'messages': [HumanMessage(content=\"What is 2 times of narendramodi's age?\", additional_kwargs={}, response_metadata={}, id='3f11e800-4a47-4f5d-9118-a63e45e02f85'),\n",
       "  AIMessage(content='', additional_kwargs={'tool_calls': [{'id': 'cgj0cprgb', 'function': {'arguments': '{\"query\":\"Narendra Modi age\"}', 'name': 'duckduckgo_search'}, 'type': 'function'}]}, response_metadata={'token_usage': {'completion_tokens': 308, 'prompt_tokens': 423, 'total_tokens': 731, 'completion_time': 1.12, 'prompt_time': 0.027116083, 'queue_time': 0.210691933, 'total_time': 1.147116083}, 'model_name': 'deepseek-r1-distill-llama-70b', 'system_fingerprint': 'fp_1bbe7845ec', 'finish_reason': 'tool_calls', 'logprobs': None}, id='run--e6c62936-d522-423c-9204-749123cab5b0-0', tool_calls=[{'name': 'duckduckgo_search', 'args': {'query': 'Narendra Modi age'}, 'id': 'cgj0cprgb', 'type': 'tool_call'}], usage_metadata={'input_tokens': 423, 'output_tokens': 308, 'total_tokens': 731}),\n",
       "  ToolMessage(content='Narendra Modi is the 14th prime minister of India. His Hindu nationalist policies and some of his economic reforms have proved controversial to many within and outside India. List of all Prime Ministers of India till 2025: Narendra Modi is the current and 14th Prime Minister of India who assumed office on 10 June 2024. Learn about the life and achievements of Narendra Modi, the current Prime Minister of India, who was born on September 17, 1950, in Gujarat. Find out his full name, constituency, education, and political journey from a humble background to a prominent leader. Narendra Modi biography Here are 20 key details about Narendra Modi: Full Name: Narendra Damodardas Modi. Date of Birth: September 17, 1950. Birthplace: Vadnagar, Gujarat, India. Current Position: Prime Minister of India, serving since May 26, 2014. Political Party: Bharatiya Janata Party (BJP). Previous Role: Chief Minister of Gujarat from October 2001 to May 2014. Major Achievements: Known ... NEW DELHI: Prime Minister Narendra Modi turned 74 on Tuesday, with the President and the top BJP and NDA leaders extending birthday wishes and praising his leadership. President Droupadi Murmu ...', name='duckduckgo_search', id='12543ef0-f60b-4d07-83ce-d6767c0c448f', tool_call_id='cgj0cprgb'),\n",
       "  AIMessage(content='', additional_kwargs={'tool_calls': [{'id': 'b14hse9ex', 'function': {'arguments': '{\"a\":74,\"b\":2}', 'name': 'multiply'}, 'type': 'function'}]}, response_metadata={'token_usage': {'completion_tokens': 259, 'prompt_tokens': 741, 'total_tokens': 1000, 'completion_time': 0.971228083, 'prompt_time': 0.056069045, 'queue_time': 0.20799996200000004, 'total_time': 1.027297128}, 'model_name': 'deepseek-r1-distill-llama-70b', 'system_fingerprint': 'fp_1bbe7845ec', 'finish_reason': 'tool_calls', 'logprobs': None}, id='run--de64c4bb-6fcf-4865-adbd-442b06ed215b-0', tool_calls=[{'name': 'multiply', 'args': {'a': 74, 'b': 2}, 'id': 'b14hse9ex', 'type': 'tool_call'}], usage_metadata={'input_tokens': 741, 'output_tokens': 259, 'total_tokens': 1000}),\n",
       "  ToolMessage(content='148', name='multiply', id='8f4870e3-4fc4-4310-8243-6fc8d23d79b0', tool_call_id='b14hse9ex'),\n",
       "  AIMessage(content=\"2 times Narendra Modi's age is \\\\boxed{148}.\", additional_kwargs={}, response_metadata={'token_usage': {'completion_tokens': 191, 'prompt_tokens': 794, 'total_tokens': 985, 'completion_time': 0.694545455, 'prompt_time': 0.051338668, 'queue_time': 0.21615355, 'total_time': 0.745884123}, 'model_name': 'deepseek-r1-distill-llama-70b', 'system_fingerprint': 'fp_1bbe7845ec', 'finish_reason': 'stop', 'logprobs': None}, id='run--e885a611-97d4-422a-a1e4-2c67876b09ba-0', usage_metadata={'input_tokens': 794, 'output_tokens': 191, 'total_tokens': 985})]}"
      ]
     },
     "execution_count": 63,
     "metadata": {},
     "output_type": "execute_result"
    }
   ],
   "source": [
    "react_graph.invoke({\"messages\":message})"
   ]
  },
  {
   "cell_type": "code",
   "execution_count": 64,
   "id": "c99ad9fb",
   "metadata": {},
   "outputs": [],
   "source": [
    "message = [HumanMessage(content=\"How much is the net worth of Elon Musk, and divide it by 2?\")]"
   ]
  },
  {
   "cell_type": "code",
   "execution_count": 65,
   "id": "eb42942f",
   "metadata": {},
   "outputs": [
    {
     "data": {
      "text/plain": [
       "{'messages': [HumanMessage(content='How much is the net worth of Elon Musk, and divide it by 2?', additional_kwargs={}, response_metadata={}, id='ea857ddf-c9a2-450c-aecf-a1c3c17d5dd3'),\n",
       "  AIMessage(content='', additional_kwargs={'tool_calls': [{'id': 'srr4pwzw2', 'function': {'arguments': '{\"query\":\"Elon Musk net worth 2023\"}', 'name': 'duckduckgo_search'}, 'type': 'function'}]}, response_metadata={'token_usage': {'completion_tokens': 538, 'prompt_tokens': 427, 'total_tokens': 965, 'completion_time': 1.9920456020000001, 'prompt_time': 0.027363028, 'queue_time': 0.207909767, 'total_time': 2.01940863}, 'model_name': 'deepseek-r1-distill-llama-70b', 'system_fingerprint': 'fp_1bbe7845ec', 'finish_reason': 'tool_calls', 'logprobs': None}, id='run--d96c3bcf-cf90-4fb7-ba46-adb7a9b1f9f0-0', tool_calls=[{'name': 'duckduckgo_search', 'args': {'query': 'Elon Musk net worth 2023'}, 'id': 'srr4pwzw2', 'type': 'tool_call'}], usage_metadata={'input_tokens': 427, 'output_tokens': 538, 'total_tokens': 965}),\n",
       "  ToolMessage(content=\"Elon Musk Net worth: $423 billion Source: Tesla, SpaceX, xAI, X Age: 53 Residence: Austin, Texas Citizenship: U.S. ... Musk became the world's richest person again on June 8, 2023 and held onto the number one spot for the remainder of 2023. He fell to No. 2 on January 31, 2024. Musk owns an estimated 54% of xAI, which he founded in 2023. Private investors valued the company at a reported $50 billion in November 2024. ... Elon Musk's net worth fell by the equivalent of ... Tesla shares fell after Elon Musk's public disagreement with the president. Musk's net worth, though still the world's highest, has fluctuated significantly, peaking at $400 billion in December 2024. View net worth over: Max 1 year 1 quarter ... He renamed the company X Corp. in April 2023. Musk was the largest financial backer of Donald Trump's presidential campaign during the 2024 election ... A look at Elon Musk's wealth in the wake of the $34 billion fall in his net worth. Previously, Elon Musk's net worth had greatly benefited from his support of the re-election campaign of President Trump. Even before Trump was inaugurated, Musk's net worth reached its peak of $486.4 billion on December 17, 2024, as per Bloomberg.. The recent growth in Musk's net worth was tied to his ...\", name='duckduckgo_search', id='c006427d-7cad-4858-97d3-27b12938640c', tool_call_id='srr4pwzw2'),\n",
       "  AIMessage(content='', additional_kwargs={'tool_calls': [{'id': 'd1y11t1qk', 'function': {'arguments': '{\"a\":486400000000,\"b\":2}', 'name': 'divide'}, 'type': 'function'}]}, response_metadata={'token_usage': {'completion_tokens': 408, 'prompt_tokens': 791, 'total_tokens': 1199, 'completion_time': 1.629518942, 'prompt_time': 0.058892265, 'queue_time': 0.20420507999999998, 'total_time': 1.6884112070000001}, 'model_name': 'deepseek-r1-distill-llama-70b', 'system_fingerprint': 'fp_1bbe7845ec', 'finish_reason': 'tool_calls', 'logprobs': None}, id='run--b10eb9cb-3369-41e9-a910-46f851b138a6-0', tool_calls=[{'name': 'divide', 'args': {'a': 486400000000, 'b': 2}, 'id': 'd1y11t1qk', 'type': 'tool_call'}], usage_metadata={'input_tokens': 791, 'output_tokens': 408, 'total_tokens': 1199}),\n",
       "  ToolMessage(content='243200000000.0', name='divide', id='bb3cfb7f-b6ba-4dfd-a32f-9e59ddb51458', tool_call_id='d1y11t1qk'),\n",
       "  AIMessage(content=\"\\n\\nElon Musk's net worth is approximately $486.4 billion. Dividing this by 2 gives us $243.2 billion.\", additional_kwargs={}, response_metadata={'token_usage': {'completion_tokens': 30, 'prompt_tokens': 854, 'total_tokens': 884, 'completion_time': 0.109090909, 'prompt_time': 0.062512051, 'queue_time': 0.20776789, 'total_time': 0.17160296}, 'model_name': 'deepseek-r1-distill-llama-70b', 'system_fingerprint': 'fp_1bbe7845ec', 'finish_reason': 'stop', 'logprobs': None}, id='run--21348be4-afcb-4ddc-a4d7-6855616d2884-0', usage_metadata={'input_tokens': 854, 'output_tokens': 30, 'total_tokens': 884})]}"
      ]
     },
     "execution_count": 65,
     "metadata": {},
     "output_type": "execute_result"
    }
   ],
   "source": [
    "react_graph.invoke({\"messages\":message})"
   ]
  },
  {
   "cell_type": "code",
   "execution_count": 66,
   "id": "c3358a2b",
   "metadata": {},
   "outputs": [],
   "source": [
    "message = [HumanMessage(content=\"What is the speed of light in m/s and multiply it by 10?\")]"
   ]
  },
  {
   "cell_type": "code",
   "execution_count": 67,
   "id": "cff14984",
   "metadata": {},
   "outputs": [],
   "source": [
    "response=react_graph.invoke({\"messages\":message})"
   ]
  },
  {
   "cell_type": "code",
   "execution_count": 68,
   "id": "4b6f8cb1",
   "metadata": {},
   "outputs": [
    {
     "data": {
      "text/plain": [
       "'The speed of light in meters per second is approximately 300,000,000 m/s. When multiplied by 10, the result is 3,000,000,000 m/s. This calculation helps in understanding the scale and magnitude of the speed of light, especially in scientific contexts where such large numbers are common.'"
      ]
     },
     "execution_count": 68,
     "metadata": {},
     "output_type": "execute_result"
    }
   ],
   "source": [
    "response[\"messages\"][-1].content"
   ]
  },
  {
   "cell_type": "code",
   "execution_count": 69,
   "id": "ecaa64fa",
   "metadata": {},
   "outputs": [
    {
     "name": "stdout",
     "output_type": "stream",
     "text": [
      "================================\u001b[1m Human Message \u001b[0m=================================\n",
      "\n",
      "What is the speed of light in m/s and multiply it by 10?\n",
      "==================================\u001b[1m Ai Message \u001b[0m==================================\n",
      "Tool Calls:\n",
      "  multiply (20sfnbstk)\n",
      " Call ID: 20sfnbstk\n",
      "  Args:\n",
      "    a: 299792000\n",
      "    b: 10\n",
      "=================================\u001b[1m Tool Message \u001b[0m=================================\n",
      "Name: multiply\n",
      "\n",
      "2997920000\n",
      "==================================\u001b[1m Ai Message \u001b[0m==================================\n",
      "Tool Calls:\n",
      "  multiply (7qpp2eszz)\n",
      " Call ID: 7qpp2eszz\n",
      "  Args:\n",
      "    a: 299792000\n",
      "    b: 10\n",
      "=================================\u001b[1m Tool Message \u001b[0m=================================\n",
      "Name: multiply\n",
      "\n",
      "2997920000\n",
      "==================================\u001b[1m Ai Message \u001b[0m==================================\n",
      "\n",
      "The speed of light in meters per second is approximately 300,000,000 m/s. When multiplied by 10, the result is 3,000,000,000 m/s. This calculation helps in understanding the scale and magnitude of the speed of light, especially in scientific contexts where such large numbers are common.\n"
     ]
    }
   ],
   "source": [
    "for m in response[\"messages\"]:\n",
    "    m.pretty_print()"
   ]
  },
  {
   "cell_type": "code",
   "execution_count": 70,
   "id": "0dec1352",
   "metadata": {},
   "outputs": [],
   "source": [
    "import yfinance as yf"
   ]
  },
  {
   "cell_type": "code",
   "execution_count": 71,
   "id": "f07545f5",
   "metadata": {},
   "outputs": [],
   "source": [
    "@tool\n",
    "def get_stock_price(ticker:str)->str:\n",
    "    \"\"\"\n",
    "    Fetches the previous closing price of a given stock ticker from Yahoo Finance.\n",
    "\n",
    "    Args:\n",
    "        ticker (str): The stock ticker symbol (e.g., 'AAPL', 'TSLA', 'NIFTY.BO').\n",
    "\n",
    "    Returns:\n",
    "        str: A message with the stock's previous closing price.\n",
    "    \"\"\"\n",
    "    try:\n",
    "        stock = yf.Ticker(ticker)\n",
    "        price = stock.info.get('previousClose')\n",
    "        if price is None:\n",
    "            return f\"Could not fetch price for ticker '{ticker}'.\"\n",
    "        return f\"The last closing price of {ticker.upper()} was ${price:.2f}.\"\n",
    "    except Exception as e:\n",
    "        return f\"An error occurred while fetching stock data: {str(e)}\"\n",
    "     \n",
    "    "
   ]
  },
  {
   "cell_type": "code",
   "execution_count": 72,
   "id": "e60507a5",
   "metadata": {},
   "outputs": [
    {
     "data": {
      "text/plain": [
       "'The last closing price of AAPL was $199.20.'"
      ]
     },
     "execution_count": 72,
     "metadata": {},
     "output_type": "execute_result"
    }
   ],
   "source": [
    "get_stock_price.invoke(\"AAPL\")"
   ]
  },
  {
   "cell_type": "code",
   "execution_count": 73,
   "id": "8f3726a7",
   "metadata": {},
   "outputs": [
    {
     "data": {
      "text/plain": [
       "'The last closing price of TSLA was $319.11.'"
      ]
     },
     "execution_count": 73,
     "metadata": {},
     "output_type": "execute_result"
    }
   ],
   "source": [
    "get_stock_price.invoke(\"TSLA\")"
   ]
  },
  {
   "cell_type": "code",
   "execution_count": 74,
   "id": "a0fc22d3",
   "metadata": {},
   "outputs": [
    {
     "data": {
      "text/plain": [
       "[StructuredTool(name='multiply', description='Multiply two integers.\\n\\nArgs:\\n    a (int): The first integer.\\n    b (int): The second integer.\\n\\nReturns:\\n    int: The product of a and b.', args_schema=<class 'langchain_core.utils.pydantic.multiply'>, func=<function multiply at 0x0000023A89008D60>),\n",
       " StructuredTool(name='add', description='Add two integers.\\n\\nArgs:\\n    a (int): The first integer.\\n    b (int): The second integer.\\n\\nReturns:\\n    int: The sum of a and b.', args_schema=<class 'langchain_core.utils.pydantic.add'>, func=<function add at 0x0000023A89008E00>),\n",
       " StructuredTool(name='divide', description='Divide two integers.\\n\\nArgs:\\n    a (int): The numerator.\\n    b (int): The denominator (must not be 0).\\n\\nReturns:\\n    float: The result of division.', args_schema=<class 'langchain_core.utils.pydantic.divide'>, func=<function divide at 0x0000023A8900AD40>),\n",
       " DuckDuckGoSearchRun(api_wrapper=DuckDuckGoSearchAPIWrapper(region='wt-wt', safesearch='moderate', time='y', max_results=5, backend='auto', source='text'))]"
      ]
     },
     "execution_count": 74,
     "metadata": {},
     "output_type": "execute_result"
    }
   ],
   "source": [
    "tools"
   ]
  },
  {
   "cell_type": "code",
   "execution_count": 75,
   "id": "91293523",
   "metadata": {},
   "outputs": [],
   "source": [
    "tools = [add, multiply, divide, search,get_stock_price]"
   ]
  },
  {
   "cell_type": "code",
   "execution_count": 76,
   "id": "ae5fd5c3",
   "metadata": {},
   "outputs": [],
   "source": [
    "llm_with_tools=llm.bind_tools(tools)"
   ]
  },
  {
   "cell_type": "code",
   "execution_count": 77,
   "id": "4e20eb44",
   "metadata": {},
   "outputs": [],
   "source": [
    "response=llm_with_tools.invoke(\"can you give me a latest stock price of adani greens?\")"
   ]
  },
  {
   "cell_type": "code",
   "execution_count": 78,
   "id": "7cbc21a8",
   "metadata": {},
   "outputs": [
    {
     "data": {
      "text/plain": [
       "''"
      ]
     },
     "execution_count": 78,
     "metadata": {},
     "output_type": "execute_result"
    }
   ],
   "source": [
    "response.content"
   ]
  },
  {
   "cell_type": "code",
   "execution_count": 79,
   "id": "e0d4ac4b",
   "metadata": {},
   "outputs": [
    {
     "data": {
      "text/plain": [
       "[{'name': 'get_stock_price',\n",
       "  'args': {'ticker': 'ADANIGREEN.NS'},\n",
       "  'id': 'vdbatw7t4',\n",
       "  'type': 'tool_call'}]"
      ]
     },
     "execution_count": 79,
     "metadata": {},
     "output_type": "execute_result"
    }
   ],
   "source": [
    "response.tool_calls"
   ]
  },
  {
   "cell_type": "code",
   "execution_count": 80,
   "id": "76fb2c48",
   "metadata": {},
   "outputs": [],
   "source": [
    "SYSTEM_PROMPT = SystemMessage(\n",
    "    content=\"You are a helpful assistant tasked with using search, the yahoo finance tool and performing arithmetic on a set of inputs.\"\n",
    ")\n",
    "def function_1(state:MessagesState):\n",
    "    \n",
    "    user_question=state[\"messages\"]\n",
    "    \n",
    "    input_question = [SYSTEM_PROMPT]+user_question\n",
    "    \n",
    "    response = llm_with_tools.invoke(input_question)\n",
    "    \n",
    "    return {\n",
    "        \"messages\":[response]\n",
    "    }"
   ]
  },
  {
   "cell_type": "code",
   "execution_count": 81,
   "id": "2bfbedc2",
   "metadata": {},
   "outputs": [],
   "source": [
    "workflow = StateGraph(MessagesState)\n",
    "workflow.add_node(\"llm_decision_step\", function_1)\n",
    "workflow.add_node(\"tools\", ToolNode(tools))\n",
    "workflow.add_edge(START, \"llm_decision_step\")\n",
    "workflow.add_conditional_edges(\n",
    "    \"llm_decision_step\",\n",
    "    tools_condition,\n",
    ")\n",
    "workflow.add_edge(\"tools\", \"llm_decision_step\")\n",
    "react_graph2 = workflow.compile()"
   ]
  },
  {
   "cell_type": "code",
   "execution_count": null,
   "id": "b413b136",
   "metadata": {},
   "outputs": [
    {
     "data": {
      "image/png": "[encoded data removed]",
      "text/plain": [
       "<IPython.core.display.Image object>"
      ]
     },
     "metadata": {},
     "output_type": "display_data"
    }
   ],
   "source": [
    "display(Image(react_graph2.get_graph(xray=True).draw_mermaid_png()))"
   ]
  },
  {
   "cell_type": "code",
   "execution_count": 82,
   "id": "2006c3b1",
   "metadata": {},
   "outputs": [],
   "source": [
    "messages = [HumanMessage(content=\"add 1000 in the current stock price of Apple.\")]\n",
    "messages = react_graph2.invoke({\"messages\": messages})"
   ]
  },
  {
   "cell_type": "code",
   "execution_count": 83,
   "id": "cc991b38",
   "metadata": {},
   "outputs": [
    {
     "name": "stdout",
     "output_type": "stream",
     "text": [
      "================================\u001b[1m Human Message \u001b[0m=================================\n",
      "\n",
      "add 1000 in the current stock price of Apple.\n",
      "==================================\u001b[1m Ai Message \u001b[0m==================================\n",
      "Tool Calls:\n",
      "  get_stock_price (2jr41gmmc)\n",
      " Call ID: 2jr41gmmc\n",
      "  Args:\n",
      "    ticker: AAPL\n",
      "=================================\u001b[1m Tool Message \u001b[0m=================================\n",
      "Name: get_stock_price\n",
      "\n",
      "The last closing price of AAPL was $199.20.\n",
      "==================================\u001b[1m Ai Message \u001b[0m==================================\n",
      "Tool Calls:\n",
      "  get_stock_price (9kckd34yv)\n",
      " Call ID: 9kckd34yv\n",
      "  Args:\n",
      "    ticker: AAPL\n",
      "=================================\u001b[1m Tool Message \u001b[0m=================================\n",
      "Name: get_stock_price\n",
      "\n",
      "The last closing price of AAPL was $199.20.\n",
      "==================================\u001b[1m Ai Message \u001b[0m==================================\n"
     ]
    }
   ],
   "source": [
    "for m in messages['messages']:\n",
    "    m.pretty_print()"
   ]
  },
  {
   "cell_type": "code",
   "execution_count": 84,
   "id": "0d7b1229",
   "metadata": {},
   "outputs": [
    {
     "ename": "GraphRecursionError",
     "evalue": "Recursion limit of 25 reached without hitting a stop condition. You can increase the limit by setting the `recursion_limit` config key.\nFor troubleshooting, visit: https://python.langchain.com/docs/troubleshooting/errors/GRAPH_RECURSION_LIMIT",
     "output_type": "error",
     "traceback": [
      "\u001b[31m---------------------------------------------------------------------------\u001b[39m",
      "\u001b[31mGraphRecursionError\u001b[39m                       Traceback (most recent call last)",
      "\u001b[36mCell\u001b[39m\u001b[36m \u001b[39m\u001b[32mIn[84]\u001b[39m\u001b[32m, line 2\u001b[39m\n\u001b[32m      1\u001b[39m messages = [HumanMessage(content=\u001b[33m\"\u001b[39m\u001b[33mcan you give me 2 times of current stock price of Apple with the latest news of the Apple.\u001b[39m\u001b[33m\"\u001b[39m)]\n\u001b[32m----> \u001b[39m\u001b[32m2\u001b[39m messages = \u001b[43mreact_graph2\u001b[49m\u001b[43m.\u001b[49m\u001b[43minvoke\u001b[49m\u001b[43m(\u001b[49m\u001b[43m{\u001b[49m\u001b[33;43m\"\u001b[39;49m\u001b[33;43mmessages\u001b[39;49m\u001b[33;43m\"\u001b[39;49m\u001b[43m:\u001b[49m\u001b[43m \u001b[49m\u001b[43mmessages\u001b[49m\u001b[43m}\u001b[49m\u001b[43m)\u001b[49m\n",
      "\u001b[36mFile \u001b[39m\u001b[32mc:\\Anaconda\\envs\\agentic_base\\Lib\\site-packages\\langgraph\\pregel\\__init__.py:2719\u001b[39m, in \u001b[36mPregel.invoke\u001b[39m\u001b[34m(self, input, config, stream_mode, output_keys, interrupt_before, interrupt_after, checkpoint_during, debug, **kwargs)\u001b[39m\n\u001b[32m   2716\u001b[39m chunks: \u001b[38;5;28mlist\u001b[39m[Union[\u001b[38;5;28mdict\u001b[39m[\u001b[38;5;28mstr\u001b[39m, Any], Any]] = []\n\u001b[32m   2717\u001b[39m interrupts: \u001b[38;5;28mlist\u001b[39m[Interrupt] = []\n\u001b[32m-> \u001b[39m\u001b[32m2719\u001b[39m \u001b[43m\u001b[49m\u001b[38;5;28;43;01mfor\u001b[39;49;00m\u001b[43m \u001b[49m\u001b[43mchunk\u001b[49m\u001b[43m \u001b[49m\u001b[38;5;129;43;01min\u001b[39;49;00m\u001b[43m \u001b[49m\u001b[38;5;28;43mself\u001b[39;49m\u001b[43m.\u001b[49m\u001b[43mstream\u001b[49m\u001b[43m(\u001b[49m\n\u001b[32m   2720\u001b[39m \u001b[43m    \u001b[49m\u001b[38;5;28;43minput\u001b[39;49m\u001b[43m,\u001b[49m\n\u001b[32m   2721\u001b[39m \u001b[43m    \u001b[49m\u001b[43mconfig\u001b[49m\u001b[43m,\u001b[49m\n\u001b[32m   2722\u001b[39m \u001b[43m    \u001b[49m\u001b[43mstream_mode\u001b[49m\u001b[43m=\u001b[49m\u001b[43mstream_mode\u001b[49m\u001b[43m,\u001b[49m\n\u001b[32m   2723\u001b[39m \u001b[43m    \u001b[49m\u001b[43moutput_keys\u001b[49m\u001b[43m=\u001b[49m\u001b[43moutput_keys\u001b[49m\u001b[43m,\u001b[49m\n\u001b[32m   2724\u001b[39m \u001b[43m    \u001b[49m\u001b[43minterrupt_before\u001b[49m\u001b[43m=\u001b[49m\u001b[43minterrupt_before\u001b[49m\u001b[43m,\u001b[49m\n\u001b[32m   2725\u001b[39m \u001b[43m    \u001b[49m\u001b[43minterrupt_after\u001b[49m\u001b[43m=\u001b[49m\u001b[43minterrupt_after\u001b[49m\u001b[43m,\u001b[49m\n\u001b[32m   2726\u001b[39m \u001b[43m    \u001b[49m\u001b[43mcheckpoint_during\u001b[49m\u001b[43m=\u001b[49m\u001b[43mcheckpoint_during\u001b[49m\u001b[43m,\u001b[49m\n\u001b[32m   2727\u001b[39m \u001b[43m    \u001b[49m\u001b[43mdebug\u001b[49m\u001b[43m=\u001b[49m\u001b[43mdebug\u001b[49m\u001b[43m,\u001b[49m\n\u001b[32m   2728\u001b[39m \u001b[43m    \u001b[49m\u001b[43m*\u001b[49m\u001b[43m*\u001b[49m\u001b[43mkwargs\u001b[49m\u001b[43m,\u001b[49m\n\u001b[32m   2729\u001b[39m \u001b[43m\u001b[49m\u001b[43m)\u001b[49m\u001b[43m:\u001b[49m\n\u001b[32m   2730\u001b[39m \u001b[43m    \u001b[49m\u001b[38;5;28;43;01mif\u001b[39;49;00m\u001b[43m \u001b[49m\u001b[43mstream_mode\u001b[49m\u001b[43m \u001b[49m\u001b[43m==\u001b[49m\u001b[43m \u001b[49m\u001b[33;43m\"\u001b[39;49m\u001b[33;43mvalues\u001b[39;49m\u001b[33;43m\"\u001b[39;49m\u001b[43m:\u001b[49m\n\u001b[32m   2731\u001b[39m \u001b[43m        \u001b[49m\u001b[38;5;28;43;01mif\u001b[39;49;00m\u001b[43m \u001b[49m\u001b[43m(\u001b[49m\n\u001b[32m   2732\u001b[39m \u001b[43m            \u001b[49m\u001b[38;5;28;43misinstance\u001b[39;49m\u001b[43m(\u001b[49m\u001b[43mchunk\u001b[49m\u001b[43m,\u001b[49m\u001b[43m \u001b[49m\u001b[38;5;28;43mdict\u001b[39;49m\u001b[43m)\u001b[49m\n\u001b[32m   2733\u001b[39m \u001b[43m            \u001b[49m\u001b[38;5;129;43;01mand\u001b[39;49;00m\u001b[43m \u001b[49m\u001b[43m(\u001b[49m\u001b[43mints\u001b[49m\u001b[43m \u001b[49m\u001b[43m:=\u001b[49m\u001b[43m \u001b[49m\u001b[43mchunk\u001b[49m\u001b[43m.\u001b[49m\u001b[43mget\u001b[49m\u001b[43m(\u001b[49m\u001b[43mINTERRUPT\u001b[49m\u001b[43m)\u001b[49m\u001b[43m)\u001b[49m\u001b[43m \u001b[49m\u001b[38;5;129;43;01mis\u001b[39;49;00m\u001b[43m \u001b[49m\u001b[38;5;129;43;01mnot\u001b[39;49;00m\u001b[43m \u001b[49m\u001b[38;5;28;43;01mNone\u001b[39;49;00m\n\u001b[32m   2734\u001b[39m \u001b[43m        \u001b[49m\u001b[43m)\u001b[49m\u001b[43m:\u001b[49m\n",
      "\u001b[36mFile \u001b[39m\u001b[32mc:\\Anaconda\\envs\\agentic_base\\Lib\\site-packages\\langgraph\\pregel\\__init__.py:2456\u001b[39m, in \u001b[36mPregel.stream\u001b[39m\u001b[34m(self, input, config, stream_mode, output_keys, interrupt_before, interrupt_after, checkpoint_during, debug, subgraphs)\u001b[39m\n\u001b[32m   2447\u001b[39m \u001b[38;5;28;01mif\u001b[39;00m loop.status == \u001b[33m\"\u001b[39m\u001b[33mout_of_steps\u001b[39m\u001b[33m\"\u001b[39m:\n\u001b[32m   2448\u001b[39m     msg = create_error_message(\n\u001b[32m   2449\u001b[39m         message=(\n\u001b[32m   2450\u001b[39m             \u001b[33mf\u001b[39m\u001b[33m\"\u001b[39m\u001b[33mRecursion limit of \u001b[39m\u001b[38;5;132;01m{\u001b[39;00mconfig[\u001b[33m'\u001b[39m\u001b[33mrecursion_limit\u001b[39m\u001b[33m'\u001b[39m]\u001b[38;5;132;01m}\u001b[39;00m\u001b[33m reached \u001b[39m\u001b[33m\"\u001b[39m\n\u001b[32m   (...)\u001b[39m\u001b[32m   2454\u001b[39m         error_code=ErrorCode.GRAPH_RECURSION_LIMIT,\n\u001b[32m   2455\u001b[39m     )\n\u001b[32m-> \u001b[39m\u001b[32m2456\u001b[39m     \u001b[38;5;28;01mraise\u001b[39;00m GraphRecursionError(msg)\n\u001b[32m   2457\u001b[39m \u001b[38;5;66;03m# set final channel values as run output\u001b[39;00m\n\u001b[32m   2458\u001b[39m run_manager.on_chain_end(loop.output)\n",
      "\u001b[31mGraphRecursionError\u001b[39m: Recursion limit of 25 reached without hitting a stop condition. You can increase the limit by setting the `recursion_limit` config key.\nFor troubleshooting, visit: https://python.langchain.com/docs/troubleshooting/errors/GRAPH_RECURSION_LIMIT"
     ]
    }
   ],
   "source": [
    "messages = [HumanMessage(content=\"can you give me 2 times of current stock price of Apple with the latest news of the Apple.\")]\n",
    "messages = react_graph2.invoke({\"messages\": messages})"
   ]
  },
  {
   "cell_type": "code",
   "execution_count": null,
   "id": "f8d8b798",
   "metadata": {},
   "outputs": [
    {
     "name": "stdout",
     "output_type": "stream",
     "text": [
      "================================\u001b[1m Human Message \u001b[0m=================================\n",
      "\n",
      "can you give me 2 times of current stock price of Apple with the latest news of the Apple.\n",
      "==================================\u001b[1m Ai Message \u001b[0m==================================\n",
      "Tool Calls:\n",
      "  get_stock_price (dkvyz3717)\n",
      " Call ID: dkvyz3717\n",
      "  Args:\n",
      "    ticker: AAPL\n",
      "=================================\u001b[1m Tool Message \u001b[0m=================================\n",
      "Name: get_stock_price\n",
      "\n",
      "The last closing price of AAPL was $199.20.\n",
      "==================================\u001b[1m Ai Message \u001b[0m==================================\n",
      "Tool Calls:\n",
      "  get_stock_price (44rn4a6n0)\n",
      " Call ID: 44rn4a6n0\n",
      "  Args:\n",
      "    ticker: AAPL\n",
      "=================================\u001b[1m Tool Message \u001b[0m=================================\n",
      "Name: get_stock_price\n",
      "\n",
      "The last closing price of AAPL was $199.20.\n",
      "==================================\u001b[1m Ai Message \u001b[0m==================================\n",
      "Tool Calls:\n",
      "  get_stock_price (w73514cxw)\n",
      " Call ID: w73514cxw\n",
      "  Args:\n",
      "    ticker: AAPL\n",
      "=================================\u001b[1m Tool Message \u001b[0m=================================\n",
      "Name: get_stock_price\n",
      "\n",
      "The last closing price of AAPL was $199.20.\n",
      "==================================\u001b[1m Ai Message \u001b[0m==================================\n",
      "\n",
      "**Step-by-Step Explanation:**\n",
      "\n",
      "1. **Retrieve Apple's Stock Price:**\n",
      "   - Use the `get_stock_price` tool with the ticker \"AAPL\" to fetch the current stock price.\n",
      "   - **Result:** The last closing price of AAPL is $199.20.\n",
      "\n",
      "2. **Calculate Two Times the Stock Price:**\n",
      "   - Use the `multiply` tool with a=2 and b=199.20.\n",
      "   - **Calculation:** 2 × 199.20 = 398.40\n",
      "   - **Result:** Two times the stock price is $398.40.\n",
      "\n",
      "3. **Find the Latest News About Apple:**\n",
      "   - Use the `duckduckgo_search` tool with the query \"latest news Apple\".\n",
      "   - **Result:** [Insert the latest news headline or summary here].\n",
      "\n",
      "**Final Answer:**\n",
      "\n",
      "- **Two times the current stock price of Apple:** $398.40\n",
      "- **Latest News About Apple:** [Insert the latest news headline or summary here]\n"
     ]
    }
   ],
   "source": [
    "for m in messages['messages']:\n",
    "    m.pretty_print()"
   ]
  },
  {
   "cell_type": "code",
   "execution_count": null,
   "id": "4210c6e9",
   "metadata": {},
   "outputs": [],
   "source": [
    "next class:\n",
    "1. human in loop\n",
    "2. agentic RAG\n",
    "3. multiagent system(collabation and supervisor)\n",
    "4. some mislionoius concept of the langgraph: sub graph, parllal execution etc"
   ]
  },
  {
   "cell_type": "code",
   "execution_count": null,
   "id": "9c799ef2",
   "metadata": {},
   "outputs": [],
   "source": [
    "Assignment:\n",
    "    \n",
    "AI Travel Agent & Expense Planner(Purpose: Trip planning for any city worldwide with Realtime data.\")\n",
    "\n",
    "• Real-time weather information\n",
    "• Top attractions and activities\n",
    "• Hotel cost calculation (per day × total days)\n",
    "• Currency conversion to user's native currency\n",
    "• Complete itinerary generation\n",
    "• Total expense calculation\n",
    "• generate a summary of the entire output\n",
    "\n",
    "user_input\n",
    "  |\n",
    "search attraction and activity\n",
    "1. search attracation\n",
    "2. search restaurant\n",
    "3. search activity\n",
    "4. search transportation\n",
    "  |\n",
    "search weather forcasting\n",
    "1. get current weather\n",
    "2. get weather forcast\n",
    "  |\n",
    "search hotel costs\n",
    "1. search hotel\n",
    "2. estimate the hotel cost\n",
    "3. budget_range\n",
    "  |\n",
    "calculate total cost\n",
    "1. add\n",
    "2. multiply\n",
    "3. calculated total cost\n",
    "4. calcualte the daily budget\n",
    "    | \n",
    "currency_converion\n",
    "1. get exchnage rate\n",
    "2. convert currancy\n",
    "    | \n",
    "Itinery generation\n",
    "1. get day plan\n",
    "2. crete full itinery\n",
    "    |\n",
    "create Trip Summary\n",
    "    |\n",
    "Retun complete traval plan\n",
    "\n",
    "Note: if you know the OOPS then design this entire system using object and class in modular fashion.\n",
    "\n",
    "\n",
    "deadline is till next friday 9PM IST\n",
    "\n",
    "\n",
    " everyone you can submit the assignments in this form. MAke sure to have one GitHub link and put all the assignments there https://forms.gle/g8RZ4qx8yvNcih4B7    \n",
    "    "
   ]
  }
 ],
 "metadata": {
  "kernelspec": {
   "display_name": "agentic_base",
   "language": "python",
   "name": "python3"
  },
  "language_info": {
   "codemirror_mode": {
    "name": "ipython",
    "version": 3
   },
   "file_extension": ".py",
   "mimetype": "text/x-python",
   "name": "python",
   "nbconvert_exporter": "python",
   "pygments_lexer": "ipython3",
   "version": "3.13.5"
  }
 },
 "nbformat": 4,
 "nbformat_minor": 5
}
