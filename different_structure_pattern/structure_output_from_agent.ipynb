{
 "cells": [
  {
   "cell_type": "code",
   "execution_count": 1,
   "metadata": {},
   "outputs": [],
   "source": [
    "from langchain_community.tools.tavily_search import TavilySearchResults\n",
    "from langchain_core.tools import tool\n",
    "\n",
    "from pydantic import BaseModel, Field\n",
    "from typing import  Literal\n",
    "from langchain_core.tools import tool\n",
    "from langgraph.graph import MessagesState,StateGraph, END\n",
    "\n",
    "from langgraph.prebuilt import ToolNode\n",
    "from langchain_core.messages import HumanMessage"
   ]
  },
  {
   "cell_type": "code",
   "execution_count": 2,
   "metadata": {},
   "outputs": [],
   "source": [
    "from langchain_groq import ChatGroq\n",
    "llm=ChatGroq(model_name=\"Gemma2-9b-It\")"
   ]
  },
  {
   "cell_type": "code",
   "execution_count": 3,
   "metadata": {},
   "outputs": [],
   "source": [
    "tavily_tool = TavilySearchResults(max_results=5)"
   ]
  },
  {
   "cell_type": "code",
   "execution_count": 4,
   "metadata": {},
   "outputs": [],
   "source": [
    "class CityDetails(BaseModel):\n",
    "    \"\"\"Respond to the user with this\"\"\"\n",
    "    state_name: str = Field(description=\"State name of the city\")\n",
    "    state_capital: str = Field(description=\"State capital of the city\")\n",
    "    country_name: str = Field(description=\"Country name of the city\")\n",
    "    country_capital: str = Field(description=\"Country capital of the city\")"
   ]
  },
  {
   "cell_type": "code",
   "execution_count": 5,
   "metadata": {},
   "outputs": [],
   "source": [
    "# Inherit 'messages' key from MessagesState, which is a list of chat messages\n",
    "class AgentState(MessagesState):\n",
    "    # Final structured response from the agent\n",
    "    final_response: CityDetails"
   ]
  },
  {
   "cell_type": "code",
   "execution_count": 6,
   "metadata": {},
   "outputs": [],
   "source": [
    "@tool\n",
    "def get_city_details(prompt):\n",
    "    \"Should do a web search to find the required city details\"\n",
    "    response = tavily_tool.invoke(prompt)\n",
    "    return response"
   ]
  },
  {
   "cell_type": "code",
   "execution_count": 7,
   "metadata": {},
   "outputs": [],
   "source": [
    "tools = [get_city_details]"
   ]
  },
  {
   "cell_type": "code",
   "execution_count": 8,
   "metadata": {},
   "outputs": [],
   "source": [
    "model_with_tools = llm.bind_tools(tools)\n",
    "model_with_structured_output = llm.with_structured_output(CityDetails)"
   ]
  },
  {
   "cell_type": "code",
   "execution_count": 37,
   "metadata": {},
   "outputs": [],
   "source": [
    "def call_model(state: AgentState):\n",
    "    print(f\"here is {state}\")\n",
    "    response = model_with_tools.invoke(state['messages'])\n",
    "    print(f\"this is respond {response}\")\n",
    "    # We return a list, because this will get added to the existing list\n",
    "    return {\"messages\": [response]}"
   ]
  },
  {
   "cell_type": "code",
   "execution_count": 38,
   "metadata": {},
   "outputs": [],
   "source": [
    "def respond(state: AgentState):\n",
    "    print(f\"here is one more {state}\")\n",
    "    response = model_with_structured_output.invoke([HumanMessage(content=state['messages'][-2].content)])\n",
    "    # We return the final answer\n",
    "    print(f\"this is one more respond {response}\")\n",
    "    return {\"final_response\": response}"
   ]
  },
  {
   "cell_type": "code",
   "execution_count": 39,
   "metadata": {},
   "outputs": [],
   "source": [
    "def should_continue(state: AgentState):\n",
    "    messages = state[\"messages\"]\n",
    "    last_message = messages[-1]\n",
    "    # If there is no function call, then we respond to the user\n",
    "    if not last_message.tool_calls:\n",
    "        return \"respond\"\n",
    "    # Otherwise if there is, we continue\n",
    "    else:\n",
    "        return \"continue\""
   ]
  },
  {
   "cell_type": "code",
   "execution_count": 40,
   "metadata": {},
   "outputs": [],
   "source": [
    "# Define a new graph\n",
    "workflow = StateGraph(AgentState)\n",
    "\n",
    "# Define the two nodes we will cycle between\n",
    "workflow.add_node(\"agent\", call_model)\n",
    "workflow.add_node(\"respond\", respond)\n",
    "workflow.add_node(\"tools\", ToolNode(tools))\n",
    "\n",
    "# Set the entrypoint as `agent`\n",
    "# This means that this node is the first one called\n",
    "workflow.set_entry_point(\"agent\")\n",
    "\n",
    "# We now add a conditional edge\n",
    "workflow.add_conditional_edges(\n",
    "    \"agent\",\n",
    "    should_continue,\n",
    "    {\n",
    "        \"continue\": \"tools\",\n",
    "        \"respond\": \"respond\",\n",
    "    },\n",
    ")\n",
    "\n",
    "workflow.add_edge(\"tools\", \"agent\")\n",
    "workflow.add_edge(\"respond\", END)\n",
    "graph = workflow.compile()"
   ]
  },
  {
   "cell_type": "code",
   "execution_count": 41,
   "metadata": {},
   "outputs": [
    {
     "data": {
      "image/jpeg": "[encoded data removed]",
      "text/plain": [
       "<IPython.core.display.Image object>"
      ]
     },
     "metadata": {},
     "output_type": "display_data"
    }
   ],
   "source": [
    "from IPython.display import Image, display\n",
    "# View\n",
    "display(Image(graph.get_graph().draw_mermaid_png()))"
   ]
  },
  {
   "cell_type": "markdown",
   "metadata": {},
   "source": [
    "here is {'messages': [HumanMessage(content='Tell me about the city details for patna?', additional_kwargs={}, response_metadata={}, id='0a312ade-37cf-43c8-8e26-c7083bdad7d7')]}"
   ]
  },
  {
   "cell_type": "code",
   "execution_count": 42,
   "metadata": {},
   "outputs": [
    {
     "name": "stdout",
     "output_type": "stream",
     "text": [
      "here is {'messages': [HumanMessage(content='Tell me about the city details for patna?', additional_kwargs={}, response_metadata={}, id='f365ebea-8e33-4459-a538-f39848bb53e5')]}\n",
      "this is respond content='' additional_kwargs={'tool_calls': [{'id': 'call_54w9', 'function': {'arguments': '{\"prompt\":\"patna\"}', 'name': 'get_city_details'}, 'type': 'function'}]} response_metadata={'token_usage': {'completion_tokens': 85, 'prompt_tokens': 945, 'total_tokens': 1030, 'completion_time': 0.154545455, 'prompt_time': 0.03021448, 'queue_time': 0.0029498970000000034, 'total_time': 0.184759935}, 'model_name': 'Gemma2-9b-It', 'system_fingerprint': 'fp_10c08bf97d', 'finish_reason': 'tool_calls', 'logprobs': None} id='run-d94c5189-3632-4473-8e19-16c8b4dff7c3-0' tool_calls=[{'name': 'get_city_details', 'args': {'prompt': 'patna'}, 'id': 'call_54w9', 'type': 'tool_call'}] usage_metadata={'input_tokens': 945, 'output_tokens': 85, 'total_tokens': 1030}\n",
      "here is {'messages': [HumanMessage(content='Tell me about the city details for patna?', additional_kwargs={}, response_metadata={}, id='f365ebea-8e33-4459-a538-f39848bb53e5'), AIMessage(content='', additional_kwargs={'tool_calls': [{'id': 'call_54w9', 'function': {'arguments': '{\"prompt\":\"patna\"}', 'name': 'get_city_details'}, 'type': 'function'}]}, response_metadata={'token_usage': {'completion_tokens': 85, 'prompt_tokens': 945, 'total_tokens': 1030, 'completion_time': 0.154545455, 'prompt_time': 0.03021448, 'queue_time': 0.0029498970000000034, 'total_time': 0.184759935}, 'model_name': 'Gemma2-9b-It', 'system_fingerprint': 'fp_10c08bf97d', 'finish_reason': 'tool_calls', 'logprobs': None}, id='run-d94c5189-3632-4473-8e19-16c8b4dff7c3-0', tool_calls=[{'name': 'get_city_details', 'args': {'prompt': 'patna'}, 'id': 'call_54w9', 'type': 'tool_call'}], usage_metadata={'input_tokens': 945, 'output_tokens': 85, 'total_tokens': 1030}), ToolMessage(content='[{\"url\": \"https://patna.nic.in/\", \"content\": \"Patna is the largest town and headquarters of Patna district, Patna division and Bihar state. Patna is the capital of Bihar state. It is located on the south bank of the river river Ganga. View More About District.\"}, {\"url\": \"https://www.britannica.com/place/Patna\", \"content\": \"Patna is the capital of Bihar state and one of the oldest cities in India. It lies on the Ganges River and has a rich cultural and historical heritage, dating back to the ancient kingdom of Magadha and the Mughal Empire.\"}, {\"url\": \"https://tourism.bihar.gov.in/en/destinations/patna\", \"content\": \"Patna is the capital city of Bihar and the largest town of the state. It has a rich history dating back to ancient Pataliputra, and many cultural and religious sites, such as temples, gurdwaras, mosques and museums.\"}, {\"url\": \"https://en.wikipedia.org/wiki/Patna\", \"content\": \"Patna is one of the oldest continuously inhabited places in the world, founded in 490 BCE by the king of Magadha. It was the seat of power and cultural centre of the Indian subcontinent during the Maurya and Gupta empires, and is now a major trading and commercial hub in India.\"}, {\"url\": \"https://en.wikipedia.org/wiki/Patna_City\", \"content\": \"Patna City is an old area of Patna, Bihar, India, with a rich history dating back to Patliputra. It is also a sacred place for Sikhs, as the birthplace of Guru Gobind Singh, and has many schools, hospitals, temples, mosques and gurudwaras.\"}]', name='get_city_details', id='ea8c2907-3fcf-473a-8da3-78178473cef5', tool_call_id='call_54w9')]}\n",
      "this is respond content='Patna is a historic city located on the river Ganga. It is the capital of Bihar state in India and is known for its rich cultural and historical heritage dating back to the ancient kingdom of Magadha. \\n' additional_kwargs={} response_metadata={'token_usage': {'completion_tokens': 46, 'prompt_tokens': 1397, 'total_tokens': 1443, 'completion_time': 0.083636364, 'prompt_time': 0.045006437, 'queue_time': 0.003330418999999994, 'total_time': 0.128642801}, 'model_name': 'Gemma2-9b-It', 'system_fingerprint': 'fp_10c08bf97d', 'finish_reason': 'stop', 'logprobs': None} id='run-824198dd-40b1-4002-bc4b-07bc4bc5ed3a-0' usage_metadata={'input_tokens': 1397, 'output_tokens': 46, 'total_tokens': 1443}\n",
      "here is one more {'messages': [HumanMessage(content='Tell me about the city details for patna?', additional_kwargs={}, response_metadata={}, id='f365ebea-8e33-4459-a538-f39848bb53e5'), AIMessage(content='', additional_kwargs={'tool_calls': [{'id': 'call_54w9', 'function': {'arguments': '{\"prompt\":\"patna\"}', 'name': 'get_city_details'}, 'type': 'function'}]}, response_metadata={'token_usage': {'completion_tokens': 85, 'prompt_tokens': 945, 'total_tokens': 1030, 'completion_time': 0.154545455, 'prompt_time': 0.03021448, 'queue_time': 0.0029498970000000034, 'total_time': 0.184759935}, 'model_name': 'Gemma2-9b-It', 'system_fingerprint': 'fp_10c08bf97d', 'finish_reason': 'tool_calls', 'logprobs': None}, id='run-d94c5189-3632-4473-8e19-16c8b4dff7c3-0', tool_calls=[{'name': 'get_city_details', 'args': {'prompt': 'patna'}, 'id': 'call_54w9', 'type': 'tool_call'}], usage_metadata={'input_tokens': 945, 'output_tokens': 85, 'total_tokens': 1030}), ToolMessage(content='[{\"url\": \"https://patna.nic.in/\", \"content\": \"Patna is the largest town and headquarters of Patna district, Patna division and Bihar state. Patna is the capital of Bihar state. It is located on the south bank of the river river Ganga. View More About District.\"}, {\"url\": \"https://www.britannica.com/place/Patna\", \"content\": \"Patna is the capital of Bihar state and one of the oldest cities in India. It lies on the Ganges River and has a rich cultural and historical heritage, dating back to the ancient kingdom of Magadha and the Mughal Empire.\"}, {\"url\": \"https://tourism.bihar.gov.in/en/destinations/patna\", \"content\": \"Patna is the capital city of Bihar and the largest town of the state. It has a rich history dating back to ancient Pataliputra, and many cultural and religious sites, such as temples, gurdwaras, mosques and museums.\"}, {\"url\": \"https://en.wikipedia.org/wiki/Patna\", \"content\": \"Patna is one of the oldest continuously inhabited places in the world, founded in 490 BCE by the king of Magadha. It was the seat of power and cultural centre of the Indian subcontinent during the Maurya and Gupta empires, and is now a major trading and commercial hub in India.\"}, {\"url\": \"https://en.wikipedia.org/wiki/Patna_City\", \"content\": \"Patna City is an old area of Patna, Bihar, India, with a rich history dating back to Patliputra. It is also a sacred place for Sikhs, as the birthplace of Guru Gobind Singh, and has many schools, hospitals, temples, mosques and gurudwaras.\"}]', name='get_city_details', id='ea8c2907-3fcf-473a-8da3-78178473cef5', tool_call_id='call_54w9'), AIMessage(content='Patna is a historic city located on the river Ganga. It is the capital of Bihar state in India and is known for its rich cultural and historical heritage dating back to the ancient kingdom of Magadha. \\n', additional_kwargs={}, response_metadata={'token_usage': {'completion_tokens': 46, 'prompt_tokens': 1397, 'total_tokens': 1443, 'completion_time': 0.083636364, 'prompt_time': 0.045006437, 'queue_time': 0.003330418999999994, 'total_time': 0.128642801}, 'model_name': 'Gemma2-9b-It', 'system_fingerprint': 'fp_10c08bf97d', 'finish_reason': 'stop', 'logprobs': None}, id='run-824198dd-40b1-4002-bc4b-07bc4bc5ed3a-0', usage_metadata={'input_tokens': 1397, 'output_tokens': 46, 'total_tokens': 1443})]}\n",
      "this is one more respond state_name='Bihar' state_capital='Patna' country_name='India' country_capital='New Delhi'\n"
     ]
    },
    {
     "ename": "",
     "evalue": "",
     "output_type": "error",
     "traceback": [
      "\u001b[1;31mThe Kernel crashed while executing code in the current cell or a previous cell. \n",
      "\u001b[1;31mPlease review the code in the cell(s) to identify a possible cause of the failure. \n",
      "\u001b[1;31mClick <a href='https://aka.ms/vscodeJupyterKernelCrash'>here</a> for more info. \n",
      "\u001b[1;31mView Jupyter <a href='command:jupyter.viewOutput'>log</a> for further details."
     ]
    }
   ],
   "source": [
    "\n",
    "answer = graph.invoke(input={\"messages\": [(\"human\", \"Tell me about the city details for patna?\")]})['final_response']\n"
   ]
  },
  {
   "cell_type": "code",
   "execution_count": 35,
   "metadata": {},
   "outputs": [
    {
     "data": {
      "text/plain": [
       "CityDetails(state_name='Madhya Pradesh', state_capital='Bhopal', country_name='India', country_capital='New Delhi')"
      ]
     },
     "execution_count": 35,
     "metadata": {},
     "output_type": "execute_result"
    }
   ],
   "source": [
    "answer"
   ]
  },
  {
   "cell_type": "code",
   "execution_count": null,
   "metadata": {},
   "outputs": [],
   "source": []
  }
 ],
 "metadata": {
  "kernelspec": {
   "display_name": "Python 3",
   "language": "python",
   "name": "python3"
  },
  "language_info": {
   "codemirror_mode": {
    "name": "ipython",
    "version": 3
   },
   "file_extension": ".py",
   "mimetype": "text/x-python",
   "name": "python",
   "nbconvert_exporter": "python",
   "pygments_lexer": "ipython3",
   "version": "3.10.14"
  }
 },
 "nbformat": 4,
 "nbformat_minor": 2
}
